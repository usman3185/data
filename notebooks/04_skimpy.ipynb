{
 "cells": [
  {
   "cell_type": "markdown",
   "id": "e9e3413b",
   "metadata": {},
   "source": [
    "# How to skim the data"
   ]
  },
  {
   "cell_type": "code",
   "execution_count": null,
   "id": "2af307b3",
   "metadata": {},
   "outputs": [],
   "source": []
  }
 ],
 "metadata": {
  "kernelspec": {
   "display_name": "ydata_profiling",
   "language": "python",
   "name": "python3"
  },
  "language_info": {
   "name": "python",
   "version": "3.10.0"
  }
 },
 "nbformat": 4,
 "nbformat_minor": 5
}
