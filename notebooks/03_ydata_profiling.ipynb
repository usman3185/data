{
 "cells": [
  {
   "cell_type": "markdown",
   "id": "f0e1d3cd",
   "metadata": {},
   "source": [
    "# Automatic EDA ydata profiling"
   ]
  },
  {
   "cell_type": "code",
   "execution_count": 1,
   "id": "c51ea46a",
   "metadata": {},
   "outputs": [
    {
     "name": "stderr",
     "output_type": "stream",
     "text": [
      "c:\\Users\\LENOVO\\miniconda3\\envs\\ydata_profiling\\lib\\site-packages\\tqdm\\auto.py:21: TqdmWarning: IProgress not found. Please update jupyter and ipywidgets. See https://ipywidgets.readthedocs.io/en/stable/user_install.html\n",
      "  from .autonotebook import tqdm as notebook_tqdm\n"
     ]
    },
    {
     "data": {
      "text/html": [
       "\n",
       "            <div>\n",
       "                <ins><a href=\"https://ydata.ai/register\">Upgrade to ydata-sdk</a></ins>\n",
       "                <p>\n",
       "                    Improve your data and profiling with ydata-sdk, featuring data quality scoring, redundancy detection, outlier identification, text validation, and synthetic data generation.\n",
       "                </p>\n",
       "            </div>\n",
       "            "
      ],
      "text/plain": [
       "<IPython.core.display.HTML object>"
      ]
     },
     "metadata": {},
     "output_type": "display_data"
    }
   ],
   "source": [
    "# import libraries\n",
    "import pandas as pd\n",
    "import seaborn as sns \n",
    "import ydata_profiling as yd"
   ]
  },
  {
   "cell_type": "code",
   "execution_count": 2,
   "id": "ec328236",
   "metadata": {},
   "outputs": [],
   "source": [
    "# import data form seaborn\n",
    "df = sns.load_dataset('Titanic')"
   ]
  },
  {
   "cell_type": "code",
   "execution_count": 4,
   "id": "8d5f5d06",
   "metadata": {},
   "outputs": [
    {
     "name": "stderr",
     "output_type": "stream",
     "text": [
      "100%|██████████| 15/15 [00:00<00:00, 41.08it/s]1<00:00, 13.76it/s, Describe variable: alone]     \n",
      "Summarize dataset: 100%|██████████| 41/41 [00:07<00:00,  5.28it/s, Completed]                 \n",
      "Generate report structure: 100%|██████████| 1/1 [00:05<00:00,  5.35s/it]\n",
      "Render HTML: 100%|██████████| 1/1 [00:02<00:00,  2.62s/it]\n",
      "Export report to file: 100%|██████████| 1/1 [00:00<00:00, 50.12it/s]\n"
     ]
    }
   ],
   "source": [
    "# ydata profile report\n",
    "profile = yd.ProfileReport(df)\n",
    "profile.to_file(output_file= './outputs/03_ydata_titanic_profile.html')\n",
    "\n"
   ]
  },
  {
   "cell_type": "code",
   "execution_count": 19,
   "id": "d2c85808",
   "metadata": {},
   "outputs": [],
   "source": [
    "# do it on our pak population dataset\n",
    "\n",
    "# do it on our pak population dataset\n",
    "df_pop= pd.read_csv('d:\\Compressed\\sub-division_population_of_pakistan.csv')\n",
    "\n"
   ]
  },
  {
   "cell_type": "code",
   "execution_count": 21,
   "id": "61ccb070",
   "metadata": {},
   "outputs": [
    {
     "name": "stderr",
     "output_type": "stream",
     "text": [
      "100%|██████████| 21/21 [00:00<00:00, 71.08it/s]0<00:00, 20.28it/s, Describe variable: ANNUAL GROWTH RATE (URBAN)]\n",
      "Summarize dataset: 100%|██████████| 319/319 [01:23<00:00,  3.80it/s, Completed]                                                     \n",
      "Generate report structure: 100%|██████████| 1/1 [00:19<00:00, 19.83s/it]\n",
      "Render HTML: 100%|██████████| 1/1 [00:20<00:00, 20.05s/it]\n",
      "Export report to file: 100%|██████████| 1/1 [00:00<00:00,  4.46it/s]\n"
     ]
    }
   ],
   "source": [
    "profile = yd.ProfileReport(df_pop)\n",
    "profile.to_file(output_file= './outputs/03b_ydata_pak_population_profile.html')"
   ]
  },
  {
   "cell_type": "code",
   "execution_count": 3,
   "id": "ddb51434",
   "metadata": {},
   "outputs": [],
   "source": [
    "# import libraries\n",
    "import pandas as pd\n",
    "import seaborn as sns\n",
    "from skimpy import skim\n"
   ]
  }
 ],
 "metadata": {
  "kernelspec": {
   "display_name": "ydata_profiling",
   "language": "python",
   "name": "python3"
  },
  "language_info": {
   "codemirror_mode": {
    "name": "ipython",
    "version": 3
   },
   "file_extension": ".py",
   "mimetype": "text/x-python",
   "name": "python",
   "nbconvert_exporter": "python",
   "pygments_lexer": "ipython3",
   "version": "3.10.0"
  }
 },
 "nbformat": 4,
 "nbformat_minor": 5
}
